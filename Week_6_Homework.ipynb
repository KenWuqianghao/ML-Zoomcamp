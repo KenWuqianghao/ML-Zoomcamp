{
 "cells": [
  {
   "cell_type": "markdown",
   "metadata": {},
   "source": [
    "## 6.10 Homework\n",
    "\n",
    "The goal of this homework is to create a tree-based regression model for prediction apartment prices (column `'price'`).\n",
    "\n",
    "In this homework we'll again use the New York City Airbnb Open Data dataset - the same one we used in homework 2 and 3.\n",
    "\n",
    "You can take it from [Kaggle](https://www.kaggle.com/dgomonov/new-york-city-airbnb-open-data?select=AB_NYC_2019.csv)\n",
    "or download from [here](https://raw.githubusercontent.com/alexeygrigorev/datasets/master/AB_NYC_2019.csv)\n",
    "if you don't want to sign up to Kaggle.\n",
    "\n",
    "Let's load the data:"
   ]
  },
  {
   "cell_type": "code",
   "execution_count": 147,
   "metadata": {},
   "outputs": [],
   "source": [
    "import pandas as pd\n",
    "import numpy as np\n",
    "\n",
    "import matplotlib.pyplot as plt\n",
    "import seaborn as sns\n",
    "\n",
    "%matplotlib inline"
   ]
  },
  {
   "cell_type": "code",
   "execution_count": 148,
   "metadata": {},
   "outputs": [],
   "source": [
    "columns = [\n",
    "    'neighbourhood_group', 'room_type', 'latitude', 'longitude',\n",
    "    'minimum_nights', 'number_of_reviews','reviews_per_month',\n",
    "    'calculated_host_listings_count', 'availability_365',\n",
    "    'price'\n",
    "]\n",
    "\n",
    "df = pd.read_csv('Week_6_Data.csv', usecols=columns)\n",
    "df.reviews_per_month = df.reviews_per_month.fillna(0)"
   ]
  },
  {
   "cell_type": "markdown",
   "metadata": {},
   "source": [
    "* Apply the log tranform to `price`\n",
    "* Do train/validation/test split with 60%/20%/20% distribution. \n",
    "* Use the `train_test_split` function and set the `random_state` parameter to 1"
   ]
  },
  {
   "cell_type": "markdown",
   "metadata": {},
   "source": [
    "Now, use `DictVectorizer` to turn train and validation into matrices:"
   ]
  },
  {
   "cell_type": "code",
   "execution_count": 149,
   "metadata": {},
   "outputs": [],
   "source": [
    "from sklearn.model_selection import train_test_split\n",
    "\n",
    "df['price']=np.log1p(df['price'])\n",
    "\n",
    "df_train_full, df_test = train_test_split(df, test_size=0.2, random_state=42)\n",
    "df_train, df_val = train_test_split(df_train_full, test_size=0.25, random_state=42)\n",
    "df_train = df_train.reset_index(drop=True)\n",
    "df_val = df_val.reset_index(drop=True)\n",
    "df_test = df_test.reset_index(drop=True)\n",
    "\n",
    "y_train = df_train.price.values\n",
    "y_val = df_val.price.values\n",
    "y_test = df_test.price.values\n",
    "\n",
    "del df_train['price']\n",
    "del df_val['price']\n",
    "del df_test['price']"
   ]
  },
  {
   "cell_type": "code",
   "execution_count": 150,
   "metadata": {},
   "outputs": [],
   "source": [
    "from sklearn.feature_extraction import DictVectorizer\n",
    "\n",
    "train_dict = df_train.to_dict(orient='records')\n",
    "\n",
    "dv = DictVectorizer(sparse=False)\n",
    "dv.fit(train_dict)\n",
    "\n",
    "X_train = dv.transform(train_dict)\n",
    "\n",
    "val_dict = df_val.to_dict(orient='records')\n",
    "\n",
    "dv = DictVectorizer(sparse=False)\n",
    "dv.fit(val_dict)\n",
    "\n",
    "X_val = dv.transform(val_dict)"
   ]
  },
  {
   "cell_type": "markdown",
   "metadata": {},
   "source": [
    "## Question 1\n",
    "\n",
    "Let's train a decision tree regressor to predict the price variable. \n",
    "\n",
    "* Train a model with `max_depth=1`"
   ]
  },
  {
   "cell_type": "code",
   "execution_count": 151,
   "metadata": {},
   "outputs": [
    {
     "name": "stdout",
     "output_type": "stream",
     "text": [
      "|--- room_type=Entire home/apt <= 0.50\n",
      "|   |--- value: [4.29]\n",
      "|--- room_type=Entire home/apt >  0.50\n",
      "|   |--- value: [5.15]\n",
      "\n"
     ]
    },
    {
     "name": "stderr",
     "output_type": "stream",
     "text": [
      "/home/kenwu/.local/lib/python3.8/site-packages/sklearn/utils/deprecation.py:87: FutureWarning: Function get_feature_names is deprecated; get_feature_names is deprecated in 1.0 and will be removed in 1.2. Please use get_feature_names_out instead.\n",
      "  warnings.warn(msg, category=FutureWarning)\n"
     ]
    }
   ],
   "source": [
    "from sklearn.tree import DecisionTreeRegressor\n",
    "from sklearn.tree import export_text\n",
    "\n",
    "dt = DecisionTreeRegressor(max_depth=1)\n",
    "dt.fit(X_train, y_train)\n",
    "\n",
    "print(export_text(dt, feature_names=dv.get_feature_names()))"
   ]
  },
  {
   "cell_type": "markdown",
   "metadata": {},
   "source": [
    "Which feature is used for splitting the data?\n",
    "\n",
    "* `room_type`\n",
    "* `neighbourhood_group`\n",
    "* `number_of_reviews`\n",
    "* `reviews_per_month`"
   ]
  },
  {
   "cell_type": "markdown",
   "metadata": {},
   "source": [
    "## Question 2\n",
    "\n",
    "Train a random forest model with these parameters:\n",
    "\n",
    "* `n_estimators=10`\n",
    "* `random_state=1`\n",
    "* `n_jobs=-1`  (optional - to make training faster)"
   ]
  },
  {
   "cell_type": "code",
   "execution_count": 152,
   "metadata": {},
   "outputs": [],
   "source": [
    "from sklearn.ensemble import RandomForestRegressor\n",
    "rf = RandomForestRegressor(n_estimators = 10, random_state = 1, n_jobs = -1)\n",
    "rf.fit(X_train, y_train)\n",
    "y_pred = rf.predict(X_val)"
   ]
  },
  {
   "cell_type": "code",
   "execution_count": 153,
   "metadata": {},
   "outputs": [
    {
     "data": {
      "text/plain": [
       "0.4642147735861472"
      ]
     },
     "execution_count": 153,
     "metadata": {},
     "output_type": "execute_result"
    }
   ],
   "source": [
    "def rmse(y, y_pred):\n",
    "    se = (y - y_pred) ** 2\n",
    "    mse = se.mean()\n",
    "    return np.sqrt(mse)\n",
    "\n",
    "rmse(y_val, y_pred)"
   ]
  },
  {
   "cell_type": "markdown",
   "metadata": {},
   "source": [
    "What's the RMSE of this model on validation?\n",
    "\n",
    "* 0.059\n",
    "* 0.259\n",
    "* 0.459\n",
    "* 0.659"
   ]
  },
  {
   "cell_type": "markdown",
   "metadata": {},
   "source": [
    "## Question 3\n",
    "\n",
    "Now let's experiment with the `n_estimators` parameter\n",
    "\n",
    "* Try different values of this parameter from 10 to 200 with step 10\n",
    "* Set `random_state` to `1`\n",
    "* Evaluate the model on the validation dataset"
   ]
  },
  {
   "cell_type": "code",
   "execution_count": 154,
   "metadata": {},
   "outputs": [],
   "source": [
    "scores = []\n",
    "\n",
    "for n in range(10, 200, 10):\n",
    "    rf = RandomForestRegressor(n_estimators=n, random_state=1, n_jobs = -1)\n",
    "    rf.fit(X_train, y_train)\n",
    "\n",
    "    y_pred = rf.predict(X_val)\n",
    "    rmse_score = rmse(y_val, y_pred)\n",
    "\n",
    "    scores.append((n, rmse_score))"
   ]
  },
  {
   "cell_type": "code",
   "execution_count": 155,
   "metadata": {},
   "outputs": [
    {
     "data": {
      "text/plain": [
       "[<matplotlib.lines.Line2D at 0x7f3db1041730>]"
      ]
     },
     "execution_count": 155,
     "metadata": {},
     "output_type": "execute_result"
    },
    {
     "data": {
      "image/png": "[encoded data removed]",
      "text/plain": [
       "<Figure size 432x288 with 1 Axes>"
      ]
     },
     "metadata": {
      "needs_background": "light"
     },
     "output_type": "display_data"
    }
   ],
   "source": [
    "df_scores = pd.DataFrame(scores, columns=['n_estimators', 'rmse'])\n",
    "plt.plot(df_scores.n_estimators, df_scores.rmse)"
   ]
  },
  {
   "cell_type": "markdown",
   "metadata": {},
   "source": [
    "After which value of `n_estimators` does RMSE stop improving?\n",
    "\n",
    "- 10\n",
    "- 50\n",
    "- 70\n",
    "- 120"
   ]
  },
  {
   "cell_type": "markdown",
   "metadata": {},
   "source": [
    "## Question 4\n",
    "\n",
    "Let's select the best `max_depth`:\n",
    "\n",
    "* Try different values of `max_depth`: `[10, 15, 20, 25]`\n",
    "* For each of these values, try different values of `n_estimators` from 10 till 200 (with step 10)\n",
    "* Fix the random seed: `random_state=1`"
   ]
  },
  {
   "cell_type": "code",
   "execution_count": 160,
   "metadata": {},
   "outputs": [],
   "source": [
    "scores = []\n",
    "depths = [10, 15, 20, 25]\n",
    "\n",
    "for depth in depths:\n",
    "    rf = RandomForestRegressor(max_depth = depth, random_state=1, n_jobs=-1)\n",
    "    rf.fit(X_train, y_train)\n",
    "\n",
    "    y_pred = rf.predict(X_val)\n",
    "    rmse_score = rmse(y_val, y_pred)\n",
    "\n",
    "    scores.append((depth, rmse_score))"
   ]
  },
  {
   "cell_type": "code",
   "execution_count": 161,
   "metadata": {},
   "outputs": [
    {
     "data": {
      "text/plain": [
       "[<matplotlib.lines.Line2D at 0x7f3db0f520d0>]"
      ]
     },
     "execution_count": 161,
     "metadata": {},
     "output_type": "execute_result"
    },
    {
     "data": {
      "image/png": "[encoded data removed]",
      "text/plain": [
       "<Figure size 432x288 with 1 Axes>"
      ]
     },
     "metadata": {
      "needs_background": "light"
     },
     "output_type": "display_data"
    }
   ],
   "source": [
    "df_scores = pd.DataFrame(scores, columns=['max_depth', 'rmse'])\n",
    "plt.plot(df_scores.max_depth, df_scores.rmse)"
   ]
  },
  {
   "cell_type": "code",
   "execution_count": null,
   "metadata": {},
   "outputs": [
    {
     "name": "stderr",
     "output_type": "stream",
     "text": [
      "/home/kenwu/.local/lib/python3.8/site-packages/pandas/core/arraylike.py:364: RuntimeWarning: divide by zero encountered in log\n",
      "  result = getattr(ufunc, method)(*inputs, **kwargs)\n"
     ]
    }
   ],
   "source": [
    "df['price'] = np.log(df['price'])\n",
    "\n",
    "from sklearn.model_selection import train_test_split\n",
    "\n",
    "df_full_train, df_test = train_test_split(df, test_size=0.2, random_state=1)\n",
    "df_train, df_val = train_test_split(df_full_train, test_size=0.25, random_state=1)\n",
    "\n",
    "df_train = df_train.reset_index(drop=True)\n",
    "df_val = df_val.reset_index(drop=True)\n",
    "df_test = df_test.reset_index(drop=True)\n",
    "\n",
    "y_train = df_train['price']\n",
    "y_val = df_val['price']\n",
    "y_test = df_test['price']\n",
    "\n",
    "del df_train['price']\n",
    "del df_val['price']\n",
    "del df_test['price']"
   ]
  },
  {
   "cell_type": "markdown",
   "metadata": {},
   "source": [
    "What's the best `max_depth`:\n",
    "\n",
    "* 10\n",
    "* 15\n",
    "* 20\n",
    "* 25\n",
    "\n",
    "Bonus question (not graded):\n",
    "\n",
    "Will the answer be different if we change the seed for the model?"
   ]
  },
  {
   "cell_type": "markdown",
   "metadata": {},
   "source": [
    "## Question 5\n",
    "\n",
    "We can extract feature importance information from tree-based models. \n",
    "\n",
    "At each step of the decision tree learning algorith, it finds the best split. \n",
    "When doint it, we can calculate \"gain\" - the reduction in impurity before and after the split. \n",
    "This gain is quite useful in understanding what are the imporatant features \n",
    "for tree-based models.\n",
    "\n",
    "In Scikit-Learn, tree-based models contain this information in the `feature_importances_` field. \n",
    "\n",
    "For this homework question, we'll find the most important feature:\n",
    "\n",
    "* Train the model with these parametes:\n",
    "    * `n_estimators=10`,\n",
    "    * `max_depth=20`,\n",
    "    * `random_state=1`,\n",
    "    * `n_jobs=-1` (optional)\n",
    "* Get the feature importance information from this model"
   ]
  },
  {
   "cell_type": "code",
   "execution_count": 171,
   "metadata": {},
   "outputs": [
    {
     "name": "stdout",
     "output_type": "stream",
     "text": [
      "Feature: 0, Score: 0.08056\n",
      "Feature: 1, Score: 0.03043\n",
      "Feature: 2, Score: 0.15022\n",
      "Feature: 3, Score: 0.15689\n",
      "Feature: 4, Score: 0.05447\n",
      "Feature: 5, Score: 0.00023\n",
      "Feature: 6, Score: 0.00130\n",
      "Feature: 7, Score: 0.03425\n",
      "Feature: 8, Score: 0.00132\n",
      "Feature: 9, Score: 0.00009\n",
      "Feature: 10, Score: 0.04375\n",
      "Feature: 11, Score: 0.05058\n",
      "Feature: 12, Score: 0.38621\n",
      "Feature: 13, Score: 0.00503\n",
      "Feature: 14, Score: 0.00469\n",
      "0.3862101980140389\n"
     ]
    }
   ],
   "source": [
    "rf = RandomForestRegressor(n_estimators = 10, max_depth = 20, random_state=1, n_jobs=-1)\n",
    "rf.fit(X_train, y_train)\n",
    "\n",
    "features = rf.feature_importances_\n",
    "for i,v in enumerate(features):\n",
    "\tprint('Feature: %0d, Score: %.5f' % (i,v))"
   ]
  },
  {
   "cell_type": "markdown",
   "metadata": {},
   "source": [
    "What's the most important feature? \n",
    "\n",
    "* `neighbourhood_group=Manhattan`\n",
    "* `room_type=Entire home/apt`\t\n",
    "* `longitude`\n",
    "* `latitude`"
   ]
  },
  {
   "cell_type": "markdown",
   "metadata": {},
   "source": [
    "## Question 6"
   ]
  },
  {
   "cell_type": "markdown",
   "metadata": {},
   "source": [
    "Now let's train an XGBoost model! For this question, we'll tune the `eta` parameter\n",
    "\n",
    "* Install XGBoost\n",
    "* Create DMatrix for train and validation\n",
    "* Create a watchlist\n",
    "* Train a model with these parameters for 100 rounds:\n",
    "\n",
    "```\n",
    "xgb_params = {\n",
    "    'eta': 0.3, \n",
    "    'max_depth': 6,\n",
    "    'min_child_weight': 1,\n",
    "    \n",
    "    'objective': 'reg:squarederror',\n",
    "    'nthread': 8,\n",
    "    \n",
    "    'seed': 1,\n",
    "    'verbosity': 1,\n",
    "}\n",
    "```"
   ]
  },
  {
   "cell_type": "code",
   "execution_count": 174,
   "metadata": {},
   "outputs": [
    {
     "name": "stderr",
     "output_type": "stream",
     "text": [
      "/home/kenwu/.local/lib/python3.8/site-packages/sklearn/utils/deprecation.py:87: FutureWarning: Function get_feature_names is deprecated; get_feature_names is deprecated in 1.0 and will be removed in 1.2. Please use get_feature_names_out instead.\n",
      "  warnings.warn(msg, category=FutureWarning)\n"
     ]
    }
   ],
   "source": [
    "import xgboost as xgb\n",
    "\n",
    "features = dv.get_feature_names()\n",
    "dtrain = xgb.DMatrix(X_train, label=y_train, feature_names=features)\n",
    "dval = xgb.DMatrix(X_val, label=y_val, feature_names=features)\n",
    "\n",
    "xgb_params = {\n",
    "    'eta': 0.3, \n",
    "    'max_depth': 6,\n",
    "    'min_child_weight': 1,\n",
    "    \n",
    "    'objective': 'reg:squarederror',\n",
    "    'nthread': 8,\n",
    "    \n",
    "    'seed': 1,\n",
    "    'verbosity': 1,\n",
    "}\n",
    "\n",
    "watchlist = [(dtrain, 'train'), (dval, 'val')]"
   ]
  },
  {
   "cell_type": "markdown",
   "metadata": {},
   "source": [
    "Now change `eta` first to `0.1` and then to `0.01`"
   ]
  },
  {
   "cell_type": "code",
   "execution_count": 176,
   "metadata": {},
   "outputs": [
    {
     "name": "stdout",
     "output_type": "stream",
     "text": [
      "[0]\ttrain-rmse:3.02797\tval-rmse:3.02896\n",
      "[1]\ttrain-rmse:2.14703\tval-rmse:2.14833\n",
      "[2]\ttrain-rmse:1.53987\tval-rmse:1.54178\n",
      "[3]\ttrain-rmse:1.12690\tval-rmse:1.12928\n",
      "[4]\ttrain-rmse:0.85280\tval-rmse:0.85598\n",
      "[5]\ttrain-rmse:0.67679\tval-rmse:0.68117\n",
      "[6]\ttrain-rmse:0.56976\tval-rmse:0.57587\n",
      "[7]\ttrain-rmse:0.50760\tval-rmse:0.51540\n",
      "[8]\ttrain-rmse:0.47255\tval-rmse:0.48273\n",
      "[9]\ttrain-rmse:0.45351\tval-rmse:0.46584\n",
      "[10]\ttrain-rmse:0.44209\tval-rmse:0.45655\n",
      "[11]\ttrain-rmse:0.43532\tval-rmse:0.45085\n",
      "[12]\ttrain-rmse:0.43181\tval-rmse:0.44802\n",
      "[13]\ttrain-rmse:0.42942\tval-rmse:0.44652\n",
      "[14]\ttrain-rmse:0.42680\tval-rmse:0.44491\n",
      "[15]\ttrain-rmse:0.42463\tval-rmse:0.44417\n",
      "[16]\ttrain-rmse:0.42335\tval-rmse:0.44384\n",
      "[17]\ttrain-rmse:0.42189\tval-rmse:0.44366\n",
      "[18]\ttrain-rmse:0.42057\tval-rmse:0.44324\n",
      "[19]\ttrain-rmse:0.41966\tval-rmse:0.44306\n",
      "[20]\ttrain-rmse:0.41758\tval-rmse:0.44212\n",
      "[21]\ttrain-rmse:0.41672\tval-rmse:0.44157\n",
      "[22]\ttrain-rmse:0.41578\tval-rmse:0.44152\n",
      "[23]\ttrain-rmse:0.41429\tval-rmse:0.44119\n",
      "[24]\ttrain-rmse:0.41364\tval-rmse:0.44100\n",
      "[25]\ttrain-rmse:0.41309\tval-rmse:0.44094\n",
      "[26]\ttrain-rmse:0.41173\tval-rmse:0.44087\n",
      "[27]\ttrain-rmse:0.41077\tval-rmse:0.44083\n",
      "[28]\ttrain-rmse:0.41015\tval-rmse:0.44094\n",
      "[29]\ttrain-rmse:0.40894\tval-rmse:0.44058\n",
      "[30]\ttrain-rmse:0.40731\tval-rmse:0.44019\n",
      "[31]\ttrain-rmse:0.40531\tval-rmse:0.43999\n",
      "[32]\ttrain-rmse:0.40510\tval-rmse:0.43985\n",
      "[33]\ttrain-rmse:0.40492\tval-rmse:0.43983\n",
      "[34]\ttrain-rmse:0.40427\tval-rmse:0.43991\n",
      "[35]\ttrain-rmse:0.40381\tval-rmse:0.43989\n",
      "[36]\ttrain-rmse:0.40265\tval-rmse:0.43967\n",
      "[37]\ttrain-rmse:0.40204\tval-rmse:0.43974\n",
      "[38]\ttrain-rmse:0.40143\tval-rmse:0.43971\n",
      "[39]\ttrain-rmse:0.40050\tval-rmse:0.43980\n",
      "[40]\ttrain-rmse:0.40020\tval-rmse:0.43956\n",
      "[41]\ttrain-rmse:0.39928\tval-rmse:0.43946\n",
      "[42]\ttrain-rmse:0.39811\tval-rmse:0.43965\n",
      "[43]\ttrain-rmse:0.39769\tval-rmse:0.43959\n",
      "[44]\ttrain-rmse:0.39741\tval-rmse:0.43946\n",
      "[45]\ttrain-rmse:0.39685\tval-rmse:0.43951\n",
      "[46]\ttrain-rmse:0.39654\tval-rmse:0.43950\n",
      "[47]\ttrain-rmse:0.39496\tval-rmse:0.43924\n",
      "[48]\ttrain-rmse:0.39415\tval-rmse:0.43939\n",
      "[49]\ttrain-rmse:0.39355\tval-rmse:0.43930\n",
      "[50]\ttrain-rmse:0.39260\tval-rmse:0.43955\n",
      "[51]\ttrain-rmse:0.39199\tval-rmse:0.43948\n",
      "[52]\ttrain-rmse:0.39069\tval-rmse:0.43942\n",
      "[53]\ttrain-rmse:0.39032\tval-rmse:0.43942\n",
      "[54]\ttrain-rmse:0.38966\tval-rmse:0.43942\n",
      "[55]\ttrain-rmse:0.38910\tval-rmse:0.43933\n",
      "[56]\ttrain-rmse:0.38902\tval-rmse:0.43936\n",
      "[57]\ttrain-rmse:0.38858\tval-rmse:0.43954\n",
      "[58]\ttrain-rmse:0.38820\tval-rmse:0.43963\n",
      "[59]\ttrain-rmse:0.38725\tval-rmse:0.43957\n",
      "[60]\ttrain-rmse:0.38697\tval-rmse:0.43942\n",
      "[61]\ttrain-rmse:0.38667\tval-rmse:0.43946\n",
      "[62]\ttrain-rmse:0.38571\tval-rmse:0.43980\n",
      "[63]\ttrain-rmse:0.38488\tval-rmse:0.43974\n",
      "[64]\ttrain-rmse:0.38368\tval-rmse:0.43961\n",
      "[65]\ttrain-rmse:0.38277\tval-rmse:0.43967\n",
      "[66]\ttrain-rmse:0.38204\tval-rmse:0.43970\n",
      "[67]\ttrain-rmse:0.38180\tval-rmse:0.43971\n",
      "[68]\ttrain-rmse:0.38072\tval-rmse:0.43990\n",
      "[69]\ttrain-rmse:0.38002\tval-rmse:0.43990\n",
      "[70]\ttrain-rmse:0.37951\tval-rmse:0.43992\n",
      "[71]\ttrain-rmse:0.37948\tval-rmse:0.43993\n",
      "[72]\ttrain-rmse:0.37879\tval-rmse:0.44006\n",
      "[73]\ttrain-rmse:0.37794\tval-rmse:0.44014\n",
      "[74]\ttrain-rmse:0.37730\tval-rmse:0.44030\n",
      "[75]\ttrain-rmse:0.37710\tval-rmse:0.44037\n",
      "[76]\ttrain-rmse:0.37635\tval-rmse:0.44060\n",
      "[77]\ttrain-rmse:0.37570\tval-rmse:0.44059\n",
      "[78]\ttrain-rmse:0.37462\tval-rmse:0.44016\n",
      "[79]\ttrain-rmse:0.37417\tval-rmse:0.44010\n",
      "[80]\ttrain-rmse:0.37330\tval-rmse:0.44022\n",
      "[81]\ttrain-rmse:0.37291\tval-rmse:0.44020\n",
      "[82]\ttrain-rmse:0.37199\tval-rmse:0.44015\n",
      "[83]\ttrain-rmse:0.37117\tval-rmse:0.43993\n",
      "[84]\ttrain-rmse:0.37047\tval-rmse:0.43997\n",
      "[85]\ttrain-rmse:0.36992\tval-rmse:0.44012\n",
      "[86]\ttrain-rmse:0.36969\tval-rmse:0.44021\n",
      "[87]\ttrain-rmse:0.36949\tval-rmse:0.44030\n",
      "[88]\ttrain-rmse:0.36912\tval-rmse:0.44036\n",
      "[89]\ttrain-rmse:0.36907\tval-rmse:0.44037\n",
      "[90]\ttrain-rmse:0.36832\tval-rmse:0.44026\n",
      "[91]\ttrain-rmse:0.36767\tval-rmse:0.44041\n",
      "[92]\ttrain-rmse:0.36706\tval-rmse:0.44045\n",
      "[93]\ttrain-rmse:0.36619\tval-rmse:0.44054\n",
      "[94]\ttrain-rmse:0.36594\tval-rmse:0.44051\n",
      "[95]\ttrain-rmse:0.36528\tval-rmse:0.44054\n",
      "[96]\ttrain-rmse:0.36463\tval-rmse:0.44064\n",
      "[97]\ttrain-rmse:0.36402\tval-rmse:0.44092\n",
      "[98]\ttrain-rmse:0.36325\tval-rmse:0.44115\n",
      "[99]\ttrain-rmse:0.36308\tval-rmse:0.44119\n",
      "[0]\ttrain-rmse:3.87251\tval-rmse:3.87408\n",
      "[1]\ttrain-rmse:3.49188\tval-rmse:3.49330\n",
      "[2]\ttrain-rmse:3.14989\tval-rmse:3.15119\n",
      "[3]\ttrain-rmse:2.84275\tval-rmse:2.84405\n",
      "[4]\ttrain-rmse:2.56695\tval-rmse:2.56823\n",
      "[5]\ttrain-rmse:2.31953\tval-rmse:2.32089\n",
      "[6]\ttrain-rmse:2.09773\tval-rmse:2.09902\n",
      "[7]\ttrain-rmse:1.89894\tval-rmse:1.90017\n",
      "[8]\ttrain-rmse:1.72106\tval-rmse:1.72262\n",
      "[9]\ttrain-rmse:1.56203\tval-rmse:1.56365\n",
      "[10]\ttrain-rmse:1.42009\tval-rmse:1.42159\n",
      "[11]\ttrain-rmse:1.29352\tval-rmse:1.29503\n",
      "[12]\ttrain-rmse:1.18100\tval-rmse:1.18277\n",
      "[13]\ttrain-rmse:1.08116\tval-rmse:1.08325\n",
      "[14]\ttrain-rmse:0.99271\tval-rmse:0.99507\n",
      "[15]\ttrain-rmse:0.91468\tval-rmse:0.91726\n",
      "[16]\ttrain-rmse:0.84599\tval-rmse:0.84889\n",
      "[17]\ttrain-rmse:0.78573\tval-rmse:0.78906\n",
      "[18]\ttrain-rmse:0.73323\tval-rmse:0.73683\n",
      "[19]\ttrain-rmse:0.68731\tval-rmse:0.69143\n",
      "[20]\ttrain-rmse:0.64797\tval-rmse:0.65239\n",
      "[21]\ttrain-rmse:0.61381\tval-rmse:0.61875\n",
      "[22]\ttrain-rmse:0.58465\tval-rmse:0.59009\n",
      "[23]\ttrain-rmse:0.55950\tval-rmse:0.56564\n",
      "[24]\ttrain-rmse:0.53834\tval-rmse:0.54503\n",
      "[25]\ttrain-rmse:0.52054\tval-rmse:0.52778\n",
      "[26]\ttrain-rmse:0.50506\tval-rmse:0.51309\n",
      "[27]\ttrain-rmse:0.49235\tval-rmse:0.50092\n",
      "[28]\ttrain-rmse:0.48159\tval-rmse:0.49075\n",
      "[29]\ttrain-rmse:0.47250\tval-rmse:0.48217\n",
      "[30]\ttrain-rmse:0.46478\tval-rmse:0.47506\n",
      "[31]\ttrain-rmse:0.45854\tval-rmse:0.46919\n",
      "[32]\ttrain-rmse:0.45297\tval-rmse:0.46423\n",
      "[33]\ttrain-rmse:0.44857\tval-rmse:0.46027\n",
      "[34]\ttrain-rmse:0.44465\tval-rmse:0.45704\n",
      "[35]\ttrain-rmse:0.44150\tval-rmse:0.45427\n",
      "[36]\ttrain-rmse:0.43860\tval-rmse:0.45202\n",
      "[37]\ttrain-rmse:0.43639\tval-rmse:0.45021\n",
      "[38]\ttrain-rmse:0.43445\tval-rmse:0.44858\n",
      "[39]\ttrain-rmse:0.43250\tval-rmse:0.44721\n",
      "[40]\ttrain-rmse:0.43096\tval-rmse:0.44638\n",
      "[41]\ttrain-rmse:0.42971\tval-rmse:0.44548\n",
      "[42]\ttrain-rmse:0.42862\tval-rmse:0.44475\n",
      "[43]\ttrain-rmse:0.42723\tval-rmse:0.44396\n",
      "[44]\ttrain-rmse:0.42605\tval-rmse:0.44330\n",
      "[45]\ttrain-rmse:0.42517\tval-rmse:0.44266\n",
      "[46]\ttrain-rmse:0.42435\tval-rmse:0.44232\n",
      "[47]\ttrain-rmse:0.42356\tval-rmse:0.44185\n",
      "[48]\ttrain-rmse:0.42281\tval-rmse:0.44146\n",
      "[49]\ttrain-rmse:0.42220\tval-rmse:0.44114\n",
      "[50]\ttrain-rmse:0.42155\tval-rmse:0.44089\n",
      "[51]\ttrain-rmse:0.42088\tval-rmse:0.44056\n",
      "[52]\ttrain-rmse:0.42041\tval-rmse:0.44043\n",
      "[53]\ttrain-rmse:0.41987\tval-rmse:0.44019\n",
      "[54]\ttrain-rmse:0.41942\tval-rmse:0.44018\n",
      "[55]\ttrain-rmse:0.41897\tval-rmse:0.44003\n",
      "[56]\ttrain-rmse:0.41840\tval-rmse:0.43985\n",
      "[57]\ttrain-rmse:0.41805\tval-rmse:0.43976\n",
      "[58]\ttrain-rmse:0.41744\tval-rmse:0.43948\n",
      "[59]\ttrain-rmse:0.41704\tval-rmse:0.43948\n",
      "[60]\ttrain-rmse:0.41633\tval-rmse:0.43918\n",
      "[61]\ttrain-rmse:0.41560\tval-rmse:0.43891\n",
      "[62]\ttrain-rmse:0.41518\tval-rmse:0.43881\n",
      "[63]\ttrain-rmse:0.41487\tval-rmse:0.43880\n",
      "[64]\ttrain-rmse:0.41433\tval-rmse:0.43866\n",
      "[65]\ttrain-rmse:0.41396\tval-rmse:0.43855\n",
      "[66]\ttrain-rmse:0.41351\tval-rmse:0.43842\n",
      "[67]\ttrain-rmse:0.41293\tval-rmse:0.43828\n",
      "[68]\ttrain-rmse:0.41269\tval-rmse:0.43827\n",
      "[69]\ttrain-rmse:0.41245\tval-rmse:0.43827\n",
      "[70]\ttrain-rmse:0.41224\tval-rmse:0.43825\n",
      "[71]\ttrain-rmse:0.41182\tval-rmse:0.43817\n",
      "[72]\ttrain-rmse:0.41145\tval-rmse:0.43820\n",
      "[73]\ttrain-rmse:0.41127\tval-rmse:0.43822\n",
      "[74]\ttrain-rmse:0.41093\tval-rmse:0.43823\n",
      "[75]\ttrain-rmse:0.41078\tval-rmse:0.43818\n",
      "[76]\ttrain-rmse:0.41032\tval-rmse:0.43821\n",
      "[77]\ttrain-rmse:0.40986\tval-rmse:0.43823\n",
      "[78]\ttrain-rmse:0.40967\tval-rmse:0.43825\n",
      "[79]\ttrain-rmse:0.40949\tval-rmse:0.43828\n",
      "[80]\ttrain-rmse:0.40919\tval-rmse:0.43820\n",
      "[81]\ttrain-rmse:0.40889\tval-rmse:0.43800\n",
      "[82]\ttrain-rmse:0.40870\tval-rmse:0.43801\n",
      "[83]\ttrain-rmse:0.40839\tval-rmse:0.43797\n",
      "[84]\ttrain-rmse:0.40828\tval-rmse:0.43800\n",
      "[85]\ttrain-rmse:0.40806\tval-rmse:0.43797\n",
      "[86]\ttrain-rmse:0.40770\tval-rmse:0.43797\n",
      "[87]\ttrain-rmse:0.40754\tval-rmse:0.43797\n",
      "[88]\ttrain-rmse:0.40747\tval-rmse:0.43796\n",
      "[89]\ttrain-rmse:0.40725\tval-rmse:0.43796\n",
      "[90]\ttrain-rmse:0.40662\tval-rmse:0.43785\n",
      "[91]\ttrain-rmse:0.40632\tval-rmse:0.43784\n",
      "[92]\ttrain-rmse:0.40593\tval-rmse:0.43769\n",
      "[93]\ttrain-rmse:0.40569\tval-rmse:0.43767\n",
      "[94]\ttrain-rmse:0.40542\tval-rmse:0.43778\n",
      "[95]\ttrain-rmse:0.40526\tval-rmse:0.43772\n",
      "[96]\ttrain-rmse:0.40508\tval-rmse:0.43761\n",
      "[97]\ttrain-rmse:0.40498\tval-rmse:0.43761\n",
      "[98]\ttrain-rmse:0.40464\tval-rmse:0.43756\n",
      "[99]\ttrain-rmse:0.40459\tval-rmse:0.43757\n",
      "[0]\ttrain-rmse:4.25366\tval-rmse:4.25548\n",
      "[1]\ttrain-rmse:4.21171\tval-rmse:4.21350\n",
      "[2]\ttrain-rmse:4.17018\tval-rmse:4.17195\n",
      "[3]\ttrain-rmse:4.12908\tval-rmse:4.13082\n",
      "[4]\ttrain-rmse:4.08839\tval-rmse:4.09011\n",
      "[5]\ttrain-rmse:4.04811\tval-rmse:4.04982\n",
      "[6]\ttrain-rmse:4.00824\tval-rmse:4.00992\n",
      "[7]\ttrain-rmse:3.96877\tval-rmse:3.97044\n",
      "[8]\ttrain-rmse:3.92970\tval-rmse:3.93135\n",
      "[9]\ttrain-rmse:3.89103\tval-rmse:3.89267\n",
      "[10]\ttrain-rmse:3.85275\tval-rmse:3.85436\n",
      "[11]\ttrain-rmse:3.81486\tval-rmse:3.81646\n",
      "[12]\ttrain-rmse:3.77735\tval-rmse:3.77893\n",
      "[13]\ttrain-rmse:3.74023\tval-rmse:3.74180\n",
      "[14]\ttrain-rmse:3.70347\tval-rmse:3.70502\n",
      "[15]\ttrain-rmse:3.66709\tval-rmse:3.66865\n",
      "[16]\ttrain-rmse:3.63108\tval-rmse:3.63263\n",
      "[17]\ttrain-rmse:3.59544\tval-rmse:3.59697\n",
      "[18]\ttrain-rmse:3.56016\tval-rmse:3.56168\n",
      "[19]\ttrain-rmse:3.52523\tval-rmse:3.52675\n",
      "[20]\ttrain-rmse:3.49066\tval-rmse:3.49218\n",
      "[21]\ttrain-rmse:3.45644\tval-rmse:3.45795\n",
      "[22]\ttrain-rmse:3.42257\tval-rmse:3.42407\n",
      "[23]\ttrain-rmse:3.38905\tval-rmse:3.39052\n",
      "[24]\ttrain-rmse:3.35587\tval-rmse:3.35732\n",
      "[25]\ttrain-rmse:3.32302\tval-rmse:3.32448\n",
      "[26]\ttrain-rmse:3.29050\tval-rmse:3.29196\n",
      "[27]\ttrain-rmse:3.25832\tval-rmse:3.25978\n",
      "[28]\ttrain-rmse:3.22647\tval-rmse:3.22792\n",
      "[29]\ttrain-rmse:3.19494\tval-rmse:3.19638\n",
      "[30]\ttrain-rmse:3.16373\tval-rmse:3.16517\n",
      "[31]\ttrain-rmse:3.13284\tval-rmse:3.13428\n",
      "[32]\ttrain-rmse:3.10226\tval-rmse:3.10369\n",
      "[33]\ttrain-rmse:3.07200\tval-rmse:3.07342\n",
      "[34]\ttrain-rmse:3.04204\tval-rmse:3.04344\n",
      "[35]\ttrain-rmse:3.01240\tval-rmse:3.01379\n",
      "[36]\ttrain-rmse:2.98305\tval-rmse:2.98443\n",
      "[37]\ttrain-rmse:2.95400\tval-rmse:2.95539\n",
      "[38]\ttrain-rmse:2.92525\tval-rmse:2.92663\n",
      "[39]\ttrain-rmse:2.89680\tval-rmse:2.89818\n",
      "[40]\ttrain-rmse:2.86863\tval-rmse:2.87000\n",
      "[41]\ttrain-rmse:2.84075\tval-rmse:2.84212\n",
      "[42]\ttrain-rmse:2.81315\tval-rmse:2.81451\n",
      "[43]\ttrain-rmse:2.78584\tval-rmse:2.78721\n",
      "[44]\ttrain-rmse:2.75881\tval-rmse:2.76018\n",
      "[45]\ttrain-rmse:2.73205\tval-rmse:2.73344\n",
      "[46]\ttrain-rmse:2.70557\tval-rmse:2.70695\n",
      "[47]\ttrain-rmse:2.67937\tval-rmse:2.68076\n",
      "[48]\ttrain-rmse:2.65342\tval-rmse:2.65482\n",
      "[49]\ttrain-rmse:2.62775\tval-rmse:2.62914\n",
      "[50]\ttrain-rmse:2.60235\tval-rmse:2.60376\n",
      "[51]\ttrain-rmse:2.57720\tval-rmse:2.57859\n",
      "[52]\ttrain-rmse:2.55231\tval-rmse:2.55373\n",
      "[53]\ttrain-rmse:2.52768\tval-rmse:2.52910\n",
      "[54]\ttrain-rmse:2.50330\tval-rmse:2.50472\n",
      "[55]\ttrain-rmse:2.47917\tval-rmse:2.48058\n",
      "[56]\ttrain-rmse:2.45528\tval-rmse:2.45671\n",
      "[57]\ttrain-rmse:2.43165\tval-rmse:2.43308\n",
      "[58]\ttrain-rmse:2.40827\tval-rmse:2.40971\n",
      "[59]\ttrain-rmse:2.38512\tval-rmse:2.38656\n",
      "[60]\ttrain-rmse:2.36221\tval-rmse:2.36365\n",
      "[61]\ttrain-rmse:2.33954\tval-rmse:2.34098\n",
      "[62]\ttrain-rmse:2.31711\tval-rmse:2.31856\n",
      "[63]\ttrain-rmse:2.29490\tval-rmse:2.29637\n",
      "[64]\ttrain-rmse:2.27293\tval-rmse:2.27440\n",
      "[65]\ttrain-rmse:2.25118\tval-rmse:2.25266\n",
      "[66]\ttrain-rmse:2.22966\tval-rmse:2.23117\n",
      "[67]\ttrain-rmse:2.20837\tval-rmse:2.20990\n",
      "[68]\ttrain-rmse:2.18729\tval-rmse:2.18884\n",
      "[69]\ttrain-rmse:2.16644\tval-rmse:2.16798\n",
      "[70]\ttrain-rmse:2.14580\tval-rmse:2.14734\n",
      "[71]\ttrain-rmse:2.12537\tval-rmse:2.12692\n",
      "[72]\ttrain-rmse:2.10516\tval-rmse:2.10671\n",
      "[73]\ttrain-rmse:2.08516\tval-rmse:2.08672\n",
      "[74]\ttrain-rmse:2.06536\tval-rmse:2.06692\n",
      "[75]\ttrain-rmse:2.04578\tval-rmse:2.04734\n",
      "[76]\ttrain-rmse:2.02639\tval-rmse:2.02795\n",
      "[77]\ttrain-rmse:2.00721\tval-rmse:2.00878\n",
      "[78]\ttrain-rmse:1.98823\tval-rmse:1.98981\n",
      "[79]\ttrain-rmse:1.96945\tval-rmse:1.97105\n",
      "[80]\ttrain-rmse:1.95087\tval-rmse:1.95246\n",
      "[81]\ttrain-rmse:1.93248\tval-rmse:1.93409\n",
      "[82]\ttrain-rmse:1.91428\tval-rmse:1.91589\n",
      "[83]\ttrain-rmse:1.89628\tval-rmse:1.89790\n",
      "[84]\ttrain-rmse:1.87846\tval-rmse:1.88008\n",
      "[85]\ttrain-rmse:1.86083\tval-rmse:1.86247\n",
      "[86]\ttrain-rmse:1.84339\tval-rmse:1.84502\n",
      "[87]\ttrain-rmse:1.82614\tval-rmse:1.82776\n",
      "[88]\ttrain-rmse:1.80906\tval-rmse:1.81072\n",
      "[89]\ttrain-rmse:1.79217\tval-rmse:1.79382\n",
      "[90]\ttrain-rmse:1.77545\tval-rmse:1.77713\n",
      "[91]\ttrain-rmse:1.75891\tval-rmse:1.76060\n",
      "[92]\ttrain-rmse:1.74255\tval-rmse:1.74426\n",
      "[93]\ttrain-rmse:1.72636\tval-rmse:1.72808\n",
      "[94]\ttrain-rmse:1.71034\tval-rmse:1.71206\n",
      "[95]\ttrain-rmse:1.69450\tval-rmse:1.69624\n",
      "[96]\ttrain-rmse:1.67882\tval-rmse:1.68056\n",
      "[97]\ttrain-rmse:1.66331\tval-rmse:1.66503\n",
      "[98]\ttrain-rmse:1.64796\tval-rmse:1.64972\n",
      "[99]\ttrain-rmse:1.63278\tval-rmse:1.63454\n"
     ]
    }
   ],
   "source": [
    "scores = []\n",
    "etas = [0.3, 0.1, 0.01]\n",
    "\n",
    "for eta in etas:\n",
    "    xgb_params['eta'] = eta\n",
    "    model = xgb.train(xgb_params, dtrain, num_boost_round=100, evals = watchlist)\n",
    "    y_pred = model.predict(dval)\n",
    "    rmse_score = rmse(y_val, y_pred)\n",
    "    scores.append((eta,rmse_score))"
   ]
  },
  {
   "cell_type": "code",
   "execution_count": 180,
   "metadata": {},
   "outputs": [
    {
     "name": "stdout",
     "output_type": "stream",
     "text": [
      "[(0.3, 0.4411888392056691), (0.1, 0.4375679685473053), (0.01, 1.6345346205551055)]\n"
     ]
    }
   ],
   "source": [
    "print(scores)"
   ]
  },
  {
   "cell_type": "markdown",
   "metadata": {},
   "source": [
    "Which eta leads to the best RMSE score on the validation dataset?\n",
    "\n",
    "* 0.3\n",
    "* 0.1\n",
    "* 0.01"
   ]
  },
  {
   "cell_type": "markdown",
   "metadata": {},
   "source": [
    "## Submit the results\n",
    "\n",
    "\n",
    "Submit your results here: https://forms.gle/wQgFkYE6CtdDed4w8\n",
    "\n",
    "It's possible that your answers won't match exactly. If it's the case, select the closest one.\n",
    "\n",
    "\n",
    "## Deadline\n",
    "\n",
    "\n",
    "The deadline for submitting is 20 October 2021, 17:00 CET (Wednesday). After that, the form will be closed.\n",
    "\n"
   ]
  }
 ],
 "metadata": {
  "interpreter": {
   "hash": "b9dd3331b743a80ff99bee626dbd57fc743240fa443b604dbe1859f3f702fafa"
  },
  "kernelspec": {
   "display_name": "Python 3.8.8 64-bit ('base': conda)",
   "name": "python3"
  },
  "language_info": {
   "codemirror_mode": {
    "name": "ipython",
    "version": 3
   },
   "file_extension": ".py",
   "mimetype": "text/x-python",
   "name": "python",
   "nbconvert_exporter": "python",
   "pygments_lexer": "ipython3",
   "version": "3.8.8"
  }
 },
 "nbformat": 4,
 "nbformat_minor": 2
}
