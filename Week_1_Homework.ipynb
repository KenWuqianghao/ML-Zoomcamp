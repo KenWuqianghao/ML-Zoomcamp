{
  "nbformat": 4,
  "nbformat_minor": 0,
  "metadata": {
    "colab": {
      "name": "Week 1 Homework.ipynb",
      "provenance": [],
      "authorship_tag": "ABX9TyNeLGWVsdpfmZdeeZBXrQ85",
      "include_colab_link": true
    },
    "kernelspec": {
      "name": "python3",
      "display_name": "Python 3"
    },
    "language_info": {
      "name": "python"
    }
  },
  "cells": [
    {
      "cell_type": "markdown",
      "metadata": {
        "id": "view-in-github",
        "colab_type": "text"
      },
      "source": [
        "<a href=\"https://colab.research.google.com/github/KenWuqianghao/ML-Zoomcamp/blob/main/Week_1_Homework.ipynb\" target=\"_parent\"><img src=\"https://colab.research.google.com/assets/colab-badge.svg\" alt=\"Open In Colab\"/></a>"
      ]
    },
    {
      "cell_type": "code",
      "metadata": {
        "id": "u7iJr5ddEHFX"
      },
      "source": [
        "import pandas as pd\n",
        "import numpy as np\n",
        "\n",
        "url = 'https://raw.githubusercontent.com/alexeygrigorev/mlbookcamp-code/master/chapter-02-car-price/data.csv'\n",
        "df = pd.read_csv(url)"
      ],
      "execution_count": 1,
      "outputs": []
    },
    {
      "cell_type": "code",
      "metadata": {
        "colab": {
          "base_uri": "https://localhost:8080/"
        },
        "id": "5HlzAOfYEuC5",
        "outputId": "203b37ae-9bf3-46d6-8823-3f0d5369045d"
      },
      "source": [
        "bmw = df[df['Make'] == 'BMW']\n",
        "bmw['MSRP'].mean()"
      ],
      "execution_count": 2,
      "outputs": [
        {
          "output_type": "execute_result",
          "data": {
            "text/plain": [
              "61546.76347305389"
            ]
          },
          "metadata": {},
          "execution_count": 2
        }
      ]
    },
    {
      "cell_type": "code",
      "metadata": {
        "colab": {
          "base_uri": "https://localhost:8080/"
        },
        "id": "EunGS2oGQQr8",
        "outputId": "e0d6b296-c886-4bea-a066-0c24b38d8e6a"
      },
      "source": [
        "after_2015 = df[df['Year'] >= 2015]\n",
        "\n",
        "print(after_2015['Engine HP'].isna().sum())\n",
        "\n",
        "print(after_2015['Engine HP'].mean())\n",
        "\n",
        "after_2015['Engine HP'].fillna((after_2015['Engine HP'].mean()))\n",
        "\n",
        "print(after_2015['Engine HP'].mean())"
      ],
      "execution_count": 3,
      "outputs": [
        {
          "output_type": "stream",
          "name": "stdout",
          "text": [
            "51\n",
            "272.98771870794076\n",
            "272.98771870794076\n"
          ]
        }
      ]
    },
    {
      "cell_type": "code",
      "metadata": {
        "colab": {
          "base_uri": "https://localhost:8080/"
        },
        "id": "kXR0QYQ-HUUo",
        "outputId": "60592df7-fa0b-4c64-fd3f-36ec29a3cf65"
      },
      "source": [
        "df_rr = df[df.Make == \"Rolls-Royce\"]\n",
        "df_rr = df_rr[[\"Engine HP\", \"Engine Cylinders\", \"highway MPG\"]]\n",
        "df_rr = df_rr.drop_duplicates()\n",
        "X = df_rr.values\n",
        "XTX = X.T.dot(X)\n",
        "\n",
        "XTX_inv = np.linalg.inv(XTX)\n",
        "XTX_inv.sum()"
      ],
      "execution_count": 4,
      "outputs": [
        {
          "output_type": "execute_result",
          "data": {
            "text/plain": [
              "0.032212320677486125"
            ]
          },
          "metadata": {},
          "execution_count": 4
        }
      ]
    },
    {
      "cell_type": "code",
      "metadata": {
        "colab": {
          "base_uri": "https://localhost:8080/"
        },
        "id": "hhhvX0oJXVr8",
        "outputId": "99c33433-ae29-41e0-d780-d623f71e391e"
      },
      "source": [
        "y = [1000, 1100, 900, 1200, 1000, 850, 1300]\n",
        "w = XTX_inv.dot(X.T).dot(y)\n",
        "w[0]"
      ],
      "execution_count": 5,
      "outputs": [
        {
          "output_type": "execute_result",
          "data": {
            "text/plain": [
              "0.19989598183188978"
            ]
          },
          "metadata": {},
          "execution_count": 5
        }
      ]
    }
  ]
}