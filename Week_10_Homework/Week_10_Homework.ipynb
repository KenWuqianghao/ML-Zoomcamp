{
 "cells": [
  {
   "cell_type": "code",
   "execution_count": 79,
   "metadata": {},
   "outputs": [],
   "source": [
    "import numpy as np\n",
    "import tensorflow as tf\n",
    "from tensorflow import keras"
   ]
  },
  {
   "cell_type": "code",
   "execution_count": 80,
   "metadata": {},
   "outputs": [],
   "source": [
    "from tensorflow.keras.preprocessing.image import load_img\n",
    "from tensorflow.keras.applications.xception import preprocess_input\n",
    "model = keras.models.load_model('model.h5')"
   ]
  },
  {
   "cell_type": "code",
   "execution_count": 81,
   "metadata": {},
   "outputs": [
    {
     "name": "stdout",
     "output_type": "stream",
     "text": [
      "INFO:tensorflow:Assets written to: /tmp/tmp7o0ec0yt/assets\n"
     ]
    },
    {
     "name": "stderr",
     "output_type": "stream",
     "text": [
      "INFO:tensorflow:Assets written to: /tmp/tmp7o0ec0yt/assets\n",
      "2021-12-02 00:59:18.664635: W tensorflow/compiler/mlir/lite/python/tf_tfl_flatbuffer_helpers.cc:363] Ignored output_format.\n",
      "WARNING:absl:Buffer deduplication procedure will be skipped when flatbuffer library is not properly loaded\n",
      "2021-12-02 00:59:18.664665: W tensorflow/compiler/mlir/lite/python/tf_tfl_flatbuffer_helpers.cc:366] Ignored drop_control_dependency.\n",
      "2021-12-02 00:59:18.664983: I tensorflow/cc/saved_model/reader.cc:43] Reading SavedModel from: /tmp/tmp7o0ec0yt\n",
      "2021-12-02 00:59:18.666607: I tensorflow/cc/saved_model/reader.cc:107] Reading meta graph with tags { serve }\n",
      "2021-12-02 00:59:18.666628: I tensorflow/cc/saved_model/reader.cc:148] Reading SavedModel debug info (if present) from: /tmp/tmp7o0ec0yt\n",
      "2021-12-02 00:59:18.672025: I tensorflow/cc/saved_model/loader.cc:210] Restoring SavedModel bundle.\n",
      "2021-12-02 00:59:18.783102: I tensorflow/cc/saved_model/loader.cc:194] Running initialization op on SavedModel bundle at path: /tmp/tmp7o0ec0yt\n",
      "2021-12-02 00:59:18.800752: I tensorflow/cc/saved_model/loader.cc:283] SavedModel load for tags { serve }; Status: success: OK. Took 135769 microseconds.\n"
     ]
    }
   ],
   "source": [
    "import tensorflow.lite as tflite\n",
    "\n",
    "converter = tf.lite.TFLiteConverter.from_keras_model(model)\n",
    "\n",
    "tflite_model = converter.convert()\n",
    "\n",
    "with open('model.tflite', 'wb') as f_out:\n",
    "    f_out.write(tflite_model)"
   ]
  },
  {
   "cell_type": "code",
   "execution_count": 82,
   "metadata": {},
   "outputs": [
    {
     "name": "stdout",
     "output_type": "stream",
     "text": [
      "0\n",
      "13\n"
     ]
    }
   ],
   "source": [
    "interpreter = tflite.Interpreter(model_path='model.tflite')\n",
    "interpreter.allocate_tensors()\n",
    "\n",
    "input_index = interpreter.get_input_details()[0]['index']\n",
    "output_index = interpreter.get_output_details()[0]['index']\n",
    "\n",
    "print(input_index)\n",
    "print(output_index)"
   ]
  },
  {
   "cell_type": "code",
   "execution_count": 83,
   "metadata": {},
   "outputs": [],
   "source": [
    "from io import BytesIO\n",
    "from urllib import request\n",
    "\n",
    "from PIL import Image\n",
    "\n",
    "def download_image(url):\n",
    "    with request.urlopen(url) as resp:\n",
    "        buffer = resp.read()\n",
    "    stream = BytesIO(buffer)\n",
    "    img = Image.open(stream)\n",
    "    return img\n",
    "\n",
    "def prepare_image(img, target_size):\n",
    "    if img.mode != 'RGB':\n",
    "        img = img.convert('RGB')\n",
    "    img = img.resize(target_size, Image.NEAREST)\n",
    "    return img"
   ]
  },
  {
   "cell_type": "code",
   "execution_count": 84,
   "metadata": {},
   "outputs": [],
   "source": [
    "img = download_image('https://upload.wikimedia.org/wikipedia/commons/9/9a/Pug_600.jpg')\n",
    "img = prepare_image(img,(150,150))"
   ]
  },
  {
   "cell_type": "code",
   "execution_count": 85,
   "metadata": {},
   "outputs": [
    {
     "data": {
      "text/plain": [
       "array([[[[0.7058824 , 0.77254903, 0.7490196 ],\n",
       "         [0.69411767, 0.7607843 , 0.7294118 ],\n",
       "         [0.6313726 , 0.69803923, 0.6666667 ],\n",
       "         ...,\n",
       "         [0.7647059 , 0.8509804 , 0.8392157 ],\n",
       "         [0.68235296, 0.74509805, 0.74509805],\n",
       "         [0.6745098 , 0.76862746, 0.7764706 ]],\n",
       "\n",
       "        [[0.5254902 , 0.5921569 , 0.5686275 ],\n",
       "         [0.7372549 , 0.8039216 , 0.78039217],\n",
       "         [0.60784316, 0.6745098 , 0.6431373 ],\n",
       "         ...,\n",
       "         [0.7921569 , 0.8666667 , 0.85882354],\n",
       "         [0.6313726 , 0.7019608 , 0.6392157 ],\n",
       "         [0.7882353 , 0.8784314 , 0.85490197]],\n",
       "\n",
       "        [[0.6862745 , 0.7490196 , 0.7372549 ],\n",
       "         [0.61960787, 0.6862745 , 0.6627451 ],\n",
       "         [0.64705884, 0.7137255 , 0.68235296],\n",
       "         ...,\n",
       "         [0.6       , 0.65882355, 0.64705884],\n",
       "         [0.627451  , 0.69411767, 0.654902  ],\n",
       "         [0.7058824 , 0.79607844, 0.77254903]],\n",
       "\n",
       "        ...,\n",
       "\n",
       "        [[0.5803922 , 0.61960787, 0.58431375],\n",
       "         [0.49019608, 0.5254902 , 0.5058824 ],\n",
       "         [0.5686275 , 0.6039216 , 0.5921569 ],\n",
       "         ...,\n",
       "         [0.5803922 , 0.5921569 , 0.54901963],\n",
       "         [0.4745098 , 0.4862745 , 0.44313726],\n",
       "         [0.3019608 , 0.33333334, 0.28235295]],\n",
       "\n",
       "        [[0.47058824, 0.5137255 , 0.45882353],\n",
       "         [0.47058824, 0.50980395, 0.4745098 ],\n",
       "         [0.59607846, 0.6313726 , 0.6117647 ],\n",
       "         ...,\n",
       "         [0.7490196 , 0.7411765 , 0.68235296],\n",
       "         [0.1764706 , 0.18039216, 0.11764706],\n",
       "         [0.39215687, 0.41568628, 0.36078432]],\n",
       "\n",
       "        [[0.5764706 , 0.5764706 , 0.5372549 ],\n",
       "         [0.74509805, 0.72156864, 0.6666667 ],\n",
       "         [0.49803922, 0.53333336, 0.5294118 ],\n",
       "         ...,\n",
       "         [0.57254905, 0.6       , 0.5686275 ],\n",
       "         [0.4       , 0.41960785, 0.39215687],\n",
       "         [0.43529412, 0.45490196, 0.42745098]]]], dtype=float32)"
      ]
     },
     "execution_count": 85,
     "metadata": {},
     "output_type": "execute_result"
    }
   ],
   "source": [
    "def preprocess_input(x):\n",
    "    x /= 255\n",
    "    return x\n",
    "\n",
    "x = np.array(img, dtype='float32')\n",
    "X = np.array([x])\n",
    "\n",
    "X = preprocess_input(X)\n",
    "X"
   ]
  },
  {
   "cell_type": "code",
   "execution_count": 86,
   "metadata": {},
   "outputs": [
    {
     "data": {
      "text/plain": [
       "array([[0.770491]], dtype=float32)"
      ]
     },
     "execution_count": 86,
     "metadata": {},
     "output_type": "execute_result"
    }
   ],
   "source": [
    "interpreter.set_tensor(input_index, X)\n",
    "interpreter.invoke()\n",
    "preds = interpreter.get_tensor(output_index)\n",
    "preds"
   ]
  }
 ],
 "metadata": {
  "interpreter": {
   "hash": "4f823535138913b7778db927080ea2a4911a0b59a1bd85df317879411a187c04"
  },
  "kernelspec": {
   "display_name": "Python 3.9.5 64-bit ('base': conda)",
   "language": "python",
   "name": "python3"
  },
  "language_info": {
   "codemirror_mode": {
    "name": "ipython",
    "version": 3
   },
   "file_extension": ".py",
   "mimetype": "text/x-python",
   "name": "python",
   "nbconvert_exporter": "python",
   "pygments_lexer": "ipython3",
   "version": "3.9.5"
  },
  "orig_nbformat": 4
 },
 "nbformat": 4,
 "nbformat_minor": 2
}
