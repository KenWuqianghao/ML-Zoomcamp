{
 "cells": [
  {
   "cell_type": "code",
   "execution_count": 8,
   "metadata": {},
   "outputs": [],
   "source": [
    "import numpy as np\n",
    "import matplotlib.pyplot as plt\n",
    "\n",
    "%matplotlib inline\n",
    "import tensorflow as tf\n",
    "from tensorflow import keras"
   ]
  },
  {
   "cell_type": "code",
   "execution_count": 9,
   "metadata": {},
   "outputs": [
    {
     "name": "stdout",
     "output_type": "stream",
     "text": [
      "Model: \"model_1\"\n",
      "_________________________________________________________________\n",
      " Layer (type)                Output Shape              Param #   \n",
      "=================================================================\n",
      " input_2 (InputLayer)        [(None, 150, 150, 3)]     0         \n",
      "                                                                 \n",
      " conv2d_1 (Conv2D)           (None, 148, 148, 32)      896       \n",
      "                                                                 \n",
      " max_pooling2d_1 (MaxPooling  (None, 74, 74, 32)       0         \n",
      " 2D)                                                             \n",
      "                                                                 \n",
      " flatten_1 (Flatten)         (None, 175232)            0         \n",
      "                                                                 \n",
      " dense_1 (Dense)             (None, 64)                11214912  \n",
      "                                                                 \n",
      " dense_2 (Dense)             (None, 1)                 65        \n",
      "                                                                 \n",
      "=================================================================\n",
      "Total params: 11,215,873\n",
      "Trainable params: 11,215,873\n",
      "Non-trainable params: 0\n",
      "_________________________________________________________________\n"
     ]
    },
    {
     "name": "stderr",
     "output_type": "stream",
     "text": [
      "/home/kenwu/miniconda3/lib/python3.9/site-packages/keras/optimizer_v2/gradient_descent.py:102: UserWarning: The `lr` argument is deprecated, use `learning_rate` instead.\n",
      "  super(SGD, self).__init__(name, **kwargs)\n"
     ]
    }
   ],
   "source": [
    "inputs = keras.Input(shape = (150, 150, 3))\n",
    "conv = keras.layers.Conv2D(32, (3,3), activation = 'relu', input_shape = (150,150,3))(inputs)\n",
    "pooling = keras.layers.MaxPooling2D(pool_size = (2,2))(conv)\n",
    "vectors = keras.layers.Flatten()(pooling)\n",
    "dense = keras.layers.Dense(64, activation = 'relu')(vectors)\n",
    "outputs = keras.layers.Dense(1)(dense)\n",
    "model = keras.Model(inputs, outputs)\n",
    "\n",
    "optimizer = keras.optimizers.SGD(lr=0.002, momentum=0.8)\n",
    "loss = keras.losses.BinaryCrossentropy(from_logits=False)\n",
    "model.compile(optimizer=optimizer, loss=loss, metrics=['accuracy'])\n",
    "\n",
    "model.summary()"
   ]
  },
  {
   "cell_type": "code",
   "execution_count": 10,
   "metadata": {},
   "outputs": [
    {
     "name": "stdout",
     "output_type": "stream",
     "text": [
      "Found 20000 images belonging to 2 classes.\n",
      "Found 5000 images belonging to 2 classes.\n"
     ]
    }
   ],
   "source": [
    "from tensorflow.keras.preprocessing.image import ImageDataGenerator\n",
    "\n",
    "image_gen = ImageDataGenerator(rescale=1./255)\n",
    "\n",
    "train_ds = image_gen.flow_from_directory(\n",
    "    './train',\n",
    "    target_size=(150, 150),\n",
    "    batch_size=20,\n",
    "    shuffle = True,\n",
    "    class_mode = 'binary'\n",
    ")\n",
    "\n",
    "val_ds = image_gen.flow_from_directory(\n",
    "    './validation',\n",
    "    target_size=(150, 150),\n",
    "    batch_size=20,\n",
    "    shuffle = True,\n",
    "    class_mode = 'binary'\n",
    ")"
   ]
  },
  {
   "cell_type": "code",
   "execution_count": 11,
   "metadata": {},
   "outputs": [
    {
     "name": "stdout",
     "output_type": "stream",
     "text": [
      "Epoch 1/10\n",
      "100/100 [==============================] - 34s 336ms/step - loss: 7.6059 - accuracy: 0.4980 - val_loss: 7.9296 - val_accuracy: 0.4800\n",
      "Epoch 2/10\n",
      "100/100 [==============================] - 30s 302ms/step - loss: 7.7009 - accuracy: 0.4950 - val_loss: 7.7619 - val_accuracy: 0.4910\n",
      "Epoch 3/10\n",
      "100/100 [==============================] - 30s 300ms/step - loss: 7.6627 - accuracy: 0.4975 - val_loss: 7.7771 - val_accuracy: 0.4900\n",
      "Epoch 4/10\n",
      "100/100 [==============================] - 30s 295ms/step - loss: 7.8839 - accuracy: 0.4830 - val_loss: 7.5636 - val_accuracy: 0.5040\n",
      "Epoch 5/10\n",
      "100/100 [==============================] - 30s 297ms/step - loss: 7.7466 - accuracy: 0.4920 - val_loss: 7.5179 - val_accuracy: 0.5070\n",
      "Epoch 6/10\n",
      "100/100 [==============================] - 29s 294ms/step - loss: 7.6246 - accuracy: 0.5000 - val_loss: 7.6399 - val_accuracy: 0.4990\n",
      "Epoch 7/10\n",
      "100/100 [==============================] - 29s 294ms/step - loss: 7.4798 - accuracy: 0.5095 - val_loss: 7.5636 - val_accuracy: 0.5040\n",
      "Epoch 8/10\n",
      "100/100 [==============================] - 30s 296ms/step - loss: 7.6170 - accuracy: 0.5005 - val_loss: 7.8686 - val_accuracy: 0.4840\n",
      "Epoch 9/10\n",
      "100/100 [==============================] - 29s 294ms/step - loss: 7.6856 - accuracy: 0.4960 - val_loss: 7.6551 - val_accuracy: 0.4980\n",
      "Epoch 10/10\n",
      "100/100 [==============================] - 31s 313ms/step - loss: 7.5026 - accuracy: 0.5080 - val_loss: 7.5636 - val_accuracy: 0.5040\n"
     ]
    }
   ],
   "source": [
    "history = model.fit(\n",
    "    train_ds,\n",
    "    steps_per_epoch=100,\n",
    "    epochs=10,\n",
    "    validation_data=val_ds,\n",
    "    validation_steps=50\n",
    ")"
   ]
  },
  {
   "cell_type": "code",
   "execution_count": 12,
   "metadata": {},
   "outputs": [
    {
     "name": "stdout",
     "output_type": "stream",
     "text": [
      "0.497749999165535\n",
      "0.11063990914961627\n"
     ]
    }
   ],
   "source": [
    "print(np.median(history.history['accuracy']))\n",
    "print(np.std(history.history['loss']))"
   ]
  },
  {
   "cell_type": "code",
   "execution_count": 13,
   "metadata": {},
   "outputs": [
    {
     "name": "stdout",
     "output_type": "stream",
     "text": [
      "Found 20000 images belonging to 2 classes.\n",
      "Found 5000 images belonging to 2 classes.\n"
     ]
    }
   ],
   "source": [
    "image_gen = ImageDataGenerator(rescale=1./255,\n",
    "rotation_range=40,\n",
    "width_shift_range=0.2,\n",
    "height_shift_range=0.2,\n",
    "shear_range=0.2,\n",
    "zoom_range=0.2,\n",
    "horizontal_flip=True,\n",
    "fill_mode='nearest')\n",
    "\n",
    "train_ds = image_gen.flow_from_directory(\n",
    "    './train',\n",
    "    target_size=(150, 150),\n",
    "    batch_size=20,\n",
    "    shuffle = True,\n",
    "    class_mode = 'binary'\n",
    ")\n",
    "\n",
    "val_ds = image_gen.flow_from_directory(\n",
    "    './validation',\n",
    "    target_size=(150, 150),\n",
    "    batch_size=20,\n",
    "    shuffle = True,\n",
    "    class_mode = 'binary'\n",
    ")"
   ]
  },
  {
   "cell_type": "code",
   "execution_count": 14,
   "metadata": {},
   "outputs": [
    {
     "name": "stdout",
     "output_type": "stream",
     "text": [
      "Epoch 1/10\n",
      "100/100 [==============================] - 40s 395ms/step - loss: 7.5026 - accuracy: 0.5080 - val_loss: 7.6246 - val_accuracy: 0.5000\n",
      "Epoch 2/10\n",
      "100/100 [==============================] - 40s 396ms/step - loss: 7.4874 - accuracy: 0.5090 - val_loss: 7.4111 - val_accuracy: 0.5140\n",
      "Epoch 3/10\n",
      "100/100 [==============================] - 39s 393ms/step - loss: 7.6704 - accuracy: 0.4970 - val_loss: 7.6856 - val_accuracy: 0.4960\n",
      "Epoch 4/10\n",
      "100/100 [==============================] - 39s 392ms/step - loss: 7.6246 - accuracy: 0.5000 - val_loss: 7.0756 - val_accuracy: 0.5360\n",
      "Epoch 5/10\n",
      "100/100 [==============================] - 40s 397ms/step - loss: 7.5560 - accuracy: 0.5045 - val_loss: 7.3196 - val_accuracy: 0.5200\n",
      "Epoch 6/10\n",
      "100/100 [==============================] - 39s 394ms/step - loss: 7.5026 - accuracy: 0.5080 - val_loss: 7.7619 - val_accuracy: 0.4910\n",
      "Epoch 7/10\n",
      "100/100 [==============================] - 39s 393ms/step - loss: 7.4111 - accuracy: 0.5140 - val_loss: 7.4264 - val_accuracy: 0.5130\n",
      "Epoch 8/10\n",
      "100/100 [==============================] - 40s 395ms/step - loss: 7.4035 - accuracy: 0.5145 - val_loss: 7.7619 - val_accuracy: 0.4910\n",
      "Epoch 9/10\n",
      "100/100 [==============================] - 39s 394ms/step - loss: 7.5560 - accuracy: 0.5045 - val_loss: 7.6399 - val_accuracy: 0.4990\n",
      "Epoch 10/10\n",
      "100/100 [==============================] - 39s 393ms/step - loss: 7.7390 - accuracy: 0.4925 - val_loss: 7.5331 - val_accuracy: 0.5060\n"
     ]
    }
   ],
   "source": [
    "history = model.fit(\n",
    "    train_ds,\n",
    "    steps_per_epoch=100,\n",
    "    epochs=10,\n",
    "    validation_data=val_ds,\n",
    "    validation_steps=50\n",
    ")"
   ]
  },
  {
   "cell_type": "code",
   "execution_count": 17,
   "metadata": {},
   "outputs": [
    {
     "name": "stdout",
     "output_type": "stream",
     "text": [
      "7.523974990844726\n",
      "0.503333330154419\n"
     ]
    }
   ],
   "source": [
    "print(np.mean(history.history['val_loss']))\n",
    "val_acc = history.history['val_accuracy'][4:]\n",
    "print(np.mean(val_acc))"
   ]
  }
 ],
 "metadata": {
  "interpreter": {
   "hash": "23464d756734b9cfb0d794c45f8ccc23141ce5a9f7c386e07930d6236f7a2442"
  },
  "kernelspec": {
   "display_name": "Python 3.9.7 64-bit ('ML-Zoomcamp-Midterm-Project-_20DKKcn': venv)",
   "language": "python",
   "name": "python3"
  },
  "language_info": {
   "codemirror_mode": {
    "name": "ipython",
    "version": 3
   },
   "file_extension": ".py",
   "mimetype": "text/x-python",
   "name": "python",
   "nbconvert_exporter": "python",
   "pygments_lexer": "ipython3",
   "version": "3.9.5"
  },
  "orig_nbformat": 4
 },
 "nbformat": 4,
 "nbformat_minor": 2
}
